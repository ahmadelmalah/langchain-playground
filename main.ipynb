{
 "cells": [
  {
   "cell_type": "code",
   "execution_count": 1,
   "id": "fae444bf-9612-4cb3-88bc-d5bb1cdd2263",
   "metadata": {},
   "outputs": [
    {
     "data": {
      "text/plain": [
       "True"
      ]
     },
     "execution_count": 1,
     "metadata": {},
     "output_type": "execute_result"
    }
   ],
   "source": [
    "# Loading .env\n",
    "from dotenv import load_dotenv\n",
    "import os\n",
    "\n",
    "load_dotenv()"
   ]
  },
  {
   "cell_type": "code",
   "execution_count": 3,
   "id": "f28bdaa8-b42d-4efe-9fc8-27f911ad5737",
   "metadata": {},
   "outputs": [
    {
     "data": {
      "text/plain": [
       "AIMessage(content='Langsmith can help with testing by providing automated testing tools and frameworks that can streamline the testing process. It can also assist in generating test cases, executing tests, and analyzing test results. Additionally, Langsmith can help in incorporating testing into the development pipeline, ensuring that code changes are thoroughly tested before deployment. Overall, Langsmith can help improve the efficiency and effectiveness of testing efforts.', response_metadata={'token_usage': {'completion_tokens': 76, 'prompt_tokens': 15, 'total_tokens': 91}, 'model_name': 'gpt-3.5-turbo', 'system_fingerprint': 'fp_3b956da36b', 'finish_reason': 'stop', 'logprobs': None}, id='run-e3842d6e-3503-4ce2-89f1-e66384de7287-0')"
      ]
     },
     "execution_count": 3,
     "metadata": {},
     "output_type": "execute_result"
    }
   ],
   "source": [
    "# Plain OpenAI API Request\n",
    "from langchain_openai import ChatOpenAI\n",
    "\n",
    "llm = ChatOpenAI(api_key=os.environ.get(\"api_key\"))\n",
    "llm.invoke(\"how can langsmith help with testing?\")"
   ]
  },
  {
   "cell_type": "code",
   "execution_count": 4,
   "id": "c3b97417-1a4c-43fa-970f-8d9c5a6ea2e2",
   "metadata": {},
   "outputs": [
    {
     "data": {
      "text/plain": [
       "AIMessage(content=\"Langsmith can help with testing by providing language support for various testing activities. Some ways Langsmith can assist with testing include:\\n\\n1. Test case generation: Langsmith can generate test cases based on the requirements or specifications provided in multiple languages. This can help in ensuring comprehensive test coverage.\\n\\n2. Test data generation: Langsmith can generate test data in multiple languages to cover different language use cases and scenarios. This helps in testing the application's language handling capabilities.\\n\\n3. Localization testing: Langsmith can assist in performing localization testing by providing language-specific testing support and identifying any language-related issues in the application.\\n\\n4. Automated testing: Langsmith can integrate with test automation frameworks to support testing in multiple languages. This can help in automating language-specific test scenarios and reducing manual testing efforts.\\n\\n5. Language-specific testing: Langsmith can help in testing language-specific features such as language detection, translation, and language-specific functionalities.\\n\\nOverall, Langsmith can enhance the testing process by providing language support and ensuring that the application functions correctly in different language environments.\", response_metadata={'token_usage': {'completion_tokens': 209, 'prompt_tokens': 28, 'total_tokens': 237}, 'model_name': 'gpt-3.5-turbo', 'system_fingerprint': 'fp_3b956da36b', 'finish_reason': 'stop', 'logprobs': None}, id='run-9444111f-61ab-46db-bc2d-81a141f62b90-0')"
      ]
     },
     "execution_count": 4,
     "metadata": {},
     "output_type": "execute_result"
    }
   ],
   "source": [
    "# OpenAI API Request with Prompt\n",
    "from langchain_core.prompts import ChatPromptTemplate\n",
    "\n",
    "prompt = ChatPromptTemplate.from_messages(\n",
    "    [\n",
    "        (\"system\", \"You are a world class technical documentation writer.\"),\n",
    "        (\"user\", \"{input}\"),\n",
    "    ]\n",
    ")\n",
    "chain = prompt | llm\n",
    "chain.invoke(\"how can langsmith help with testing?\")"
   ]
  },
  {
   "cell_type": "code",
   "execution_count": 5,
   "id": "c20adf8a-1e6d-4666-9135-39f1ca85ac61",
   "metadata": {},
   "outputs": [
    {
     "data": {
      "text/plain": [
       "'Langsmith can help with testing in several ways:\\n\\n1. **Automated Testing:** Langsmith can be used to generate test cases and test data automatically, making it easier to perform automated testing. By creating a domain-specific language (DSL) for defining test scenarios, testers can write concise and readable test scripts that can be executed efficiently.\\n\\n2. **Test Data Generation:** Langsmith can be used to generate realistic test data that covers a wide range of input values and edge cases. This can help in ensuring thorough test coverage and identifying potential bugs early in the development cycle.\\n\\n3. **Integration Testing:** Langsmith can be used to define test scenarios for integration testing, where multiple components of a system are tested together to ensure they work seamlessly. By using a DSL to describe complex test scenarios, testers can easily simulate real-world interactions and identify integration issues.\\n\\n4. **Performance Testing:** Langsmith can be used to define performance test scenarios that simulate different user loads and stress conditions. By generating test scripts using Langsmith, testers can conduct performance testing efficiently and identify performance bottlenecks in the system.\\n\\n5. **Regression Testing:** Langsmith can be used to automate regression testing by defining reusable test scenarios that can be run whenever there is a new code change. This helps in ensuring that new updates do not introduce any unintended side effects or regressions in the system.\\n\\nOverall, Langsmith can streamline the testing process, improve test coverage, and accelerate the identification of issues, ultimately leading to higher quality software products.'"
      ]
     },
     "execution_count": 5,
     "metadata": {},
     "output_type": "execute_result"
    }
   ],
   "source": [
    "# OpenAI API Request with Prompt and Output Parser\n",
    "from langchain_core.output_parsers import StrOutputParser\n",
    "\n",
    "output_parser = StrOutputParser()\n",
    "chain = prompt | llm | output_parser\n",
    "chain.invoke({\"input\": \"how can langsmith help with testing?\"})"
   ]
  }
 ],
 "metadata": {
  "kernelspec": {
   "display_name": "Python 3 (ipykernel)",
   "language": "python",
   "name": "python3"
  },
  "language_info": {
   "codemirror_mode": {
    "name": "ipython",
    "version": 3
   },
   "file_extension": ".py",
   "mimetype": "text/x-python",
   "name": "python",
   "nbconvert_exporter": "python",
   "pygments_lexer": "ipython3",
   "version": "3.12.2"
  }
 },
 "nbformat": 4,
 "nbformat_minor": 5
}
